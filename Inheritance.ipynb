{
 "cells": [
  {
   "cell_type": "markdown",
   "metadata": {},
   "source": [
    "single inheritance"
   ]
  },
  {
   "cell_type": "code",
   "execution_count": 16,
   "metadata": {},
   "outputs": [
    {
     "name": "stdout",
     "output_type": "stream",
     "text": [
      "I can eat\n",
      "2\n",
      "Hi, I am Aru and I have 1 heart.\n"
     ]
    }
   ],
   "source": [
    "class Human:\n",
    "    def __init__(self,num_heart):\n",
    "        self.num_eyes = 2\n",
    "        self.num_nose = 1\n",
    "        self.num_heart = num_heart\n",
    "\n",
    "        \n",
    "    def eat(self):\n",
    "        print(\"I can eat\")\n",
    "    def work(self):\n",
    "        print(\"I can work\")\n",
    "class Male(Human):\n",
    "   def __init__(self,name,heart):\n",
    "       super().__init__(heart)\n",
    "       self.name = name\n",
    "   def flirt(self):\n",
    "       print(\"i can flirt\")\n",
    "   def work(self):\n",
    "       super().work()\n",
    "       print(\"I can code\")\n",
    "   def display(self):\n",
    "       print(f\"Hi, I am {self.name} and I have {self.num_heart} heart.\")\n",
    "        \n",
    "   \n",
    "male_1 = Male(\"Aru\",1)\n",
    "male_1.eat()\n",
    "# male_1.flirt()\n",
    "# male_1.work()\n",
    "print(male_1.num_eyes)\n",
    "male_1.display()\n",
    "# print(male_1)\n",
    "\n",
    "\n"
   ]
  },
  {
   "cell_type": "markdown",
   "metadata": {},
   "source": [
    "multiple inheritance"
   ]
  },
  {
   "cell_type": "code",
   "execution_count": 21,
   "metadata": {},
   "outputs": [
    {
     "ename": "TypeError",
     "evalue": "Human.work() takes 1 positional argument but 2 were given",
     "output_type": "error",
     "traceback": [
      "\u001b[1;31m---------------------------------------------------------------------------\u001b[0m",
      "\u001b[1;31mTypeError\u001b[0m                                 Traceback (most recent call last)",
      "Cell \u001b[1;32mIn[21], line 19\u001b[0m\n\u001b[0;32m     17\u001b[0m     \u001b[38;5;28;01mpass\u001b[39;00m\n\u001b[0;32m     18\u001b[0m boy_1 \u001b[38;5;241m=\u001b[39m Boy()\n\u001b[1;32m---> 19\u001b[0m \u001b[43mboy_1\u001b[49m\u001b[38;5;241;43m.\u001b[39;49m\u001b[43mwork\u001b[49m\u001b[43m(\u001b[49m\u001b[43mboy_1\u001b[49m\u001b[43m)\u001b[49m\n",
      "\u001b[1;31mTypeError\u001b[0m: Human.work() takes 1 positional argument but 2 were given"
     ]
    }
   ],
   "source": [
    "class Human:\n",
    "    def eat(self):\n",
    "        print(\"i can eat\")\n",
    "    def work(self):\n",
    "        print(\"I can work\")\n",
    "\n",
    "\n",
    "class Male:\n",
    "    def flirt(self):\n",
    "        print(\"I can flirt\")\n",
    "    def work(self):\n",
    "       \n",
    "       print(\"I can code\")\n",
    "    \n",
    "\n",
    "\n",
    "class Boy( Human, Male,):\n",
    "    def sleep(self):\n",
    "    pass\n",
    "boy_1 = Boy()\n",
    "boy_1.work(boy_1)\n"
   ]
  }
 ],
 "metadata": {
  "kernelspec": {
   "display_name": "Python 3",
   "language": "python",
   "name": "python3"
  },
  "language_info": {
   "codemirror_mode": {
    "name": "ipython",
    "version": 3
   },
   "file_extension": ".py",
   "mimetype": "text/x-python",
   "name": "python",
   "nbconvert_exporter": "python",
   "pygments_lexer": "ipython3",
   "version": "3.12.2"
  }
 },
 "nbformat": 4,
 "nbformat_minor": 2
}
