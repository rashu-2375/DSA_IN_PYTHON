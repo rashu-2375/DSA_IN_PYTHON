{
 "cells": [
  {
   "cell_type": "code",
   "execution_count": 1,
   "metadata": {},
   "outputs": [
    {
     "name": "stdout",
     "output_type": "stream",
     "text": [
      "I am C\n",
      "I am B\n",
      "I am A\n",
      "I am the first generation\n"
     ]
    }
   ],
   "source": [
    "class A():\n",
    "    def __init__(self):\n",
    "        print(\"I am A\")\n",
    "        \n",
    "    def myfunc(self):\n",
    "        print(\"I am the first generation\")\n",
    "\n",
    "class B(A):\n",
    "    def __init__(self):\n",
    "        print(\"I am B\")\n",
    "        super().__init__()\n",
    "\n",
    "\n",
    "        \n",
    "    # def myfunc(self):\n",
    "    #     print(\"I am the second generation\")\n",
    "\n",
    "    def yourfunc(self):\n",
    "        print(\"you are the second generation\")\n",
    "\n",
    "class C(B):\n",
    "    def __init__(self):\n",
    "        print(\"I am C\")\n",
    "        super().__init__()\n",
    "\n",
    "    # def myfunc(self):\n",
    "    #     print(\"I am the third generation\")\n",
    "        \n",
    "class D(C):\n",
    "    def __init__(self):\n",
    "        pass\n",
    "        super().__init__()\n",
    "\n",
    "\n",
    "    def myfunc(self):\n",
    "        print(\"I am the fourth generation\")\n",
    "\n",
    "\n",
    "a = C()\n",
    "a.myfunc()\n",
    "\n",
    "        \n",
    "\n",
    "\n",
    "\n"
   ]
  },
  {
   "cell_type": "code",
   "execution_count": 10,
   "metadata": {},
   "outputs": [
    {
     "name": "stdout",
     "output_type": "stream",
     "text": [
      "I am C\n",
      "I am A\n"
     ]
    }
   ],
   "source": [
    "obj = D()"
   ]
  },
  {
   "cell_type": "code",
   "execution_count": 3,
   "metadata": {},
   "outputs": [
    {
     "name": "stdout",
     "output_type": "stream",
     "text": [
      "I am the fourth generation\n"
     ]
    }
   ],
   "source": [
    "obj.myfunc()"
   ]
  },
  {
   "cell_type": "code",
   "execution_count": 4,
   "metadata": {},
   "outputs": [
    {
     "name": "stdout",
     "output_type": "stream",
     "text": [
      "you are the second generation\n"
     ]
    }
   ],
   "source": [
    "obj.yourfunc()"
   ]
  },
  {
   "cell_type": "markdown",
   "metadata": {},
   "source": [
    "determine the asymptotic time complexity pf the following code in terms of n and m"
   ]
  },
  {
   "cell_type": "code",
   "execution_count": 5,
   "metadata": {},
   "outputs": [],
   "source": [
    "def nyfunc(mylst, yourlst):\n",
    "    n = len(mylst)\n",
    "    m = len(yourlst)\n",
    "    result = 1\n",
    "    \n",
    "    for i in range(m):\n",
    "        print(\"Hi\")\n",
    "        for i in range(n):\n",
    "            for j in range(i + 1, n):\n",
    "                result *= mylst[i] * mylst[j]\n",
    "    return result"
   ]
  },
  {
   "cell_type": "code",
   "execution_count": 6,
   "metadata": {},
   "outputs": [],
   "source": [
    "mylist = [2,6,7]\n",
    "yourlst = [4,8,1, 3]"
   ]
  },
  {
   "cell_type": "code",
   "execution_count": null,
   "metadata": {},
   "outputs": [],
   "source": []
  },
  {
   "cell_type": "markdown",
   "metadata": {},
   "source": []
  }
 ],
 "metadata": {
  "kernelspec": {
   "display_name": "Python 3",
   "language": "python",
   "name": "python3"
  },
  "language_info": {
   "codemirror_mode": {
    "name": "ipython",
    "version": 3
   },
   "file_extension": ".py",
   "mimetype": "text/x-python",
   "name": "python",
   "nbconvert_exporter": "python",
   "pygments_lexer": "ipython3",
   "version": "3.12.2"
  }
 },
 "nbformat": 4,
 "nbformat_minor": 2
}
