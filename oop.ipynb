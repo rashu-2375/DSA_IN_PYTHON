{
 "cells": [
  {
   "cell_type": "markdown",
   "metadata": {},
   "source": [
    "# classes and objects  "
   ]
  },
  {
   "cell_type": "code",
   "execution_count": 15,
   "metadata": {},
   "outputs": [],
   "source": [
    "# class is a blueprint or template for creating objects\n",
    "# object is the instance of the class used to access the properties of the class\n",
    "# self means that object on which this method is being called"
   ]
  },
  {
   "cell_type": "code",
   "execution_count": 16,
   "metadata": {},
   "outputs": [
    {
     "name": "stdout",
     "output_type": "stream",
     "text": [
      "<class '__main__.person'>\n"
     ]
    }
   ],
   "source": [
    "class person:\n",
    "    name = \"Rashmi\"\n",
    "    occupation = \"software Developer\"\n",
    "    # in most of the cases,any method will require the self argument\n",
    "    def info(self):  # make sure that you stay inside this class while making this function\n",
    "        print(f\"{self.name} is a {self.occupation}\")\n",
    "a = person()  # object is created\n",
    "# b = person()\n",
    "print(type(a))\n",
    "# c = person()\n",
    "\n",
    "\n",
    "# a.name = \"priti\"\n",
    "# a.occupation = \"Accountant\"\n",
    "# b.name = \"Nikita\"\n",
    "# b.occupation =\"HR\"\n",
    "\n",
    "# print(b.name, b.occupation)\n",
    "# c.info()  # calling a.info() method\n",
    "    "
   ]
  },
  {
   "cell_type": "code",
   "execution_count": 8,
   "metadata": {},
   "outputs": [
    {
     "name": "stdout",
     "output_type": "stream",
     "text": [
      "Rashmi is a software Developer\n"
     ]
    }
   ],
   "source": [
    "c.info()"
   ]
  },
  {
   "cell_type": "code",
   "execution_count": 10,
   "metadata": {},
   "outputs": [
    {
     "name": "stdout",
     "output_type": "stream",
     "text": [
      "Nikita is a HR\n"
     ]
    }
   ],
   "source": [
    "b.info()"
   ]
  },
  {
   "cell_type": "code",
   "execution_count": 1,
   "metadata": {},
   "outputs": [],
   "source": [
    "class Node:\n",
    "    def __init__(self, data, next = None):\n",
    "        self.data = data\n",
    "        self.next = next\n",
    "\n",
    "\n",
    "        "
   ]
  },
  {
   "cell_type": "code",
   "execution_count": 3,
   "metadata": {},
   "outputs": [],
   "source": [
    "class Linkedlist:\n",
    "    def __init__(self) :\n",
    "        self.head = None  # initialize the linked list and its head which is initially None\n",
    "\n",
    "    def insertNode(self,data): # next we need to add data one by one\n",
    "        NewNode = Node(data)\n",
    "        if (self.head):\n",
    "            print(self)\n",
    "        else:\n",
    "            self.head = NewNode\n",
    "u = Linkedlist()\n",
    "u.insertNode(5)\n",
    "\n",
    "        "
   ]
  },
  {
   "cell_type": "markdown",
   "metadata": {},
   "source": [
    "# constructor"
   ]
  },
  {
   "cell_type": "code",
   "execution_count": null,
   "metadata": {},
   "outputs": [],
   "source": [
    "# constructor helps to make an object\n",
    "# A constructor is a special method in a class which is used to create and initialize an object  of a class\n",
    "# __init__ is a special method which helps us to create a constructor."
   ]
  },
  {
   "cell_type": "code",
   "execution_count": 13,
   "metadata": {},
   "outputs": [
    {
     "name": "stdout",
     "output_type": "stream",
     "text": [
      "i am a person\n",
      "i am a person\n",
      "Rashmi is a developer\n",
      "priti is a accountant\n"
     ]
    }
   ],
   "source": [
    "class person:\n",
    "    def __init__(self , n , o):  # it is being called every time I'am creating a new object outside of this person class\n",
    "        print(\"i am a person\")  # n and o are two agruments which i've passed into this method\n",
    "        self.name = n  # i can pass a name argument\n",
    "        self.occ = o  # n is a temporary variable used to pass an agrument or local variable for init()function\n",
    "\n",
    "    def info(self):\n",
    "        print(f\"{self.name} is a {self.occ}\")   \n",
    "a = person(\"Rashmi\",\"developer\")\n",
    "b = person(\"priti\",\"accountant\")  # self is the first argument that is passing automatically\n",
    "# c = person()\n",
    "# funda is constructor is called whenever i making an object\n",
    "a.info()\n",
    "b.info()"
   ]
  },
  {
   "cell_type": "code",
   "execution_count": 15,
   "metadata": {},
   "outputs": [
    {
     "name": "stdout",
     "output_type": "stream",
     "text": [
      "<class 'int'>\n",
      "<class 'str'>\n",
      "<class '__main__.computer'>\n",
      "16gb, 1 TB\n",
      "16gb, 1 TB\n",
      "16gb, 1 TB\n"
     ]
    }
   ],
   "source": [
    "class computer:\n",
    "\n",
    "    def config(self):\n",
    "        print(\"16gb, 1 TB\")\n",
    "x = 9\n",
    "print(type(x))  # x is an object of int \"class\"\n",
    "\n",
    "a = '5'\n",
    "print(type(a))   # str is also class (but inuild) same way computer class (our class)\n",
    "\n",
    "comp1 = computer()\n",
    "comp2 = computer()\n",
    "print(type(comp1))  # model name is main bcz we arrranged this quote from here\n",
    "\n",
    "# dimag lagao : hey human walk in bracket passing rashmi\n",
    "computer.config(comp1)   # if u have thousand objects then u have to mention the object name as well\n",
    "computer.config(comp2)   # here  config method belongs to computer and then we have to pass the object\n",
    "\n",
    "comp1.config()   # calling config tab ho kya raha ki config will take that comp1 as an argument and it will pass that in self\n",
    "# calling method as from the object"
   ]
  },
  {
   "cell_type": "code",
   "execution_count": 17,
   "metadata": {},
   "outputs": [
    {
     "name": "stdout",
     "output_type": "stream",
     "text": [
      "2314531896160\n",
      "2314532102960\n"
     ]
    }
   ],
   "source": [
    "class computer:\n",
    "    pass\n",
    "c1 = computer()\n",
    "c2 = computer()\n",
    "\n",
    "print(id(c1))  # get address of the memory\n",
    "print(id(c2)) "
   ]
  },
  {
   "cell_type": "code",
   "execution_count": 27,
   "metadata": {},
   "outputs": [],
   "source": [
    "class MyClass:\n",
    "    def __init__(self, value):\n",
    "        assert value >= 0, \"Value must be non-negative\"\n",
    "        self.value = value\n",
    "\n",
    "    def perform_action(self):\n",
    "        assert self.value >= 10, \"Value must be at least 10 to perform this action\"\n",
    "        # rest of the method logic"
   ]
  },
  {
   "cell_type": "code",
   "execution_count": 28,
   "metadata": {},
   "outputs": [
    {
     "ename": "AssertionError",
     "evalue": "Value must be non-negative",
     "output_type": "error",
     "traceback": [
      "\u001b[1;31m---------------------------------------------------------------------------\u001b[0m",
      "\u001b[1;31mAssertionError\u001b[0m                            Traceback (most recent call last)",
      "Cell \u001b[1;32mIn[28], line 1\u001b[0m\n\u001b[1;32m----> 1\u001b[0m obj \u001b[38;5;241m=\u001b[39m \u001b[43mMyClass\u001b[49m\u001b[43m(\u001b[49m\u001b[38;5;241;43m-\u001b[39;49m\u001b[38;5;241;43m1\u001b[39;49m\u001b[43m)\u001b[49m\n\u001b[0;32m      2\u001b[0m obj\u001b[38;5;241m.\u001b[39mperform_action()\n",
      "Cell \u001b[1;32mIn[27], line 3\u001b[0m, in \u001b[0;36mMyClass.__init__\u001b[1;34m(self, value)\u001b[0m\n\u001b[0;32m      2\u001b[0m \u001b[38;5;28;01mdef\u001b[39;00m \u001b[38;5;21m__init__\u001b[39m(\u001b[38;5;28mself\u001b[39m, value):\n\u001b[1;32m----> 3\u001b[0m     \u001b[38;5;28;01massert\u001b[39;00m value \u001b[38;5;241m>\u001b[39m\u001b[38;5;241m=\u001b[39m \u001b[38;5;241m0\u001b[39m, \u001b[38;5;124m\"\u001b[39m\u001b[38;5;124mValue must be non-negative\u001b[39m\u001b[38;5;124m\"\u001b[39m\n\u001b[0;32m      4\u001b[0m     \u001b[38;5;28mself\u001b[39m\u001b[38;5;241m.\u001b[39mvalue \u001b[38;5;241m=\u001b[39m value\n",
      "\u001b[1;31mAssertionError\u001b[0m: Value must be non-negative"
     ]
    }
   ],
   "source": [
    "obj = MyClass(-1)\n",
    "obj.perform_action()"
   ]
  },
  {
   "cell_type": "code",
   "execution_count": 29,
   "metadata": {},
   "outputs": [],
   "source": [
    "class Point3:\n",
    "    def __str__(self):\n",
    "        return \"(\" + str(self.x) + \",\" + str(self.y) + \",\"  + str(self.z) + ')'\n",
    "    def __repr__(self):\n",
    "        return str(self.__class__) + str(self)\n",
    "                   "
   ]
  }
 ],
 "metadata": {
  "kernelspec": {
   "display_name": "Python 3",
   "language": "python",
   "name": "python3"
  },
  "language_info": {
   "codemirror_mode": {
    "name": "ipython",
    "version": 3
   },
   "file_extension": ".py",
   "mimetype": "text/x-python",
   "name": "python",
   "nbconvert_exporter": "python",
   "pygments_lexer": "ipython3",
   "version": "3.12.2"
  }
 },
 "nbformat": 4,
 "nbformat_minor": 2
}
