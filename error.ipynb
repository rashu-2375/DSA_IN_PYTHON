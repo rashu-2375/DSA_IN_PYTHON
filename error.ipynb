{
 "cells": [
  {
   "cell_type": "code",
   "execution_count": 2,
   "metadata": {},
   "outputs": [
    {
     "ename": "ValueError",
     "evalue": "could not convert string to float: '12a'",
     "output_type": "error",
     "traceback": [
      "\u001b[1;31m---------------------------------------------------------------------------\u001b[0m",
      "\u001b[1;31mValueError\u001b[0m                                Traceback (most recent call last)",
      "Cell \u001b[1;32mIn[2], line 2\u001b[0m\n\u001b[0;32m      1\u001b[0m result \u001b[38;5;241m=\u001b[39m \u001b[38;5;28minput\u001b[39m(\u001b[38;5;124m\"\u001b[39m\u001b[38;5;124mNumber:\u001b[39m\u001b[38;5;124m\"\u001b[39m)\n\u001b[1;32m----> 2\u001b[0m x \u001b[38;5;241m=\u001b[39m \u001b[38;5;28;43mfloat\u001b[39;49m\u001b[43m(\u001b[49m\u001b[43mresult\u001b[49m\u001b[43m)\u001b[49m\n\u001b[0;32m      3\u001b[0m \u001b[38;5;28mprint\u001b[39m(\u001b[38;5;124m\"\u001b[39m\u001b[38;5;124mthe next number is\u001b[39m\u001b[38;5;124m\"\u001b[39m\u001b[38;5;241m+\u001b[39m\u001b[38;5;28mstr\u001b[39m(x\u001b[38;5;241m+\u001b[39m\u001b[38;5;241m1\u001b[39m))\n",
      "\u001b[1;31mValueError\u001b[0m: could not convert string to float: '12a'"
     ]
    }
   ],
   "source": [
    "result = input(\"Number:\")\n",
    "x = float(result)\n",
    "print(\"the next number is\"+str(x+1))"
   ]
  },
  {
   "cell_type": "code",
   "execution_count": 3,
   "metadata": {},
   "outputs": [
    {
     "ename": "NameError",
     "evalue": "name 'is_float' is not defined",
     "output_type": "error",
     "traceback": [
      "\u001b[1;31m---------------------------------------------------------------------------\u001b[0m",
      "\u001b[1;31mNameError\u001b[0m                                 Traceback (most recent call last)",
      "Cell \u001b[1;32mIn[3], line 2\u001b[0m\n\u001b[0;32m      1\u001b[0m result \u001b[38;5;241m=\u001b[39m \u001b[38;5;28minput\u001b[39m(\u001b[38;5;124m\"\u001b[39m\u001b[38;5;124mNumber:\u001b[39m\u001b[38;5;124m\"\u001b[39m)\n\u001b[1;32m----> 2\u001b[0m \u001b[38;5;28;01mif\u001b[39;00m \u001b[43mis_float\u001b[49m(result):\n\u001b[0;32m      3\u001b[0m     x \u001b[38;5;241m=\u001b[39m \u001b[38;5;28mfloat\u001b[39m(\u001b[38;5;28minput\u001b[39m)\n\u001b[0;32m      4\u001b[0m     \u001b[38;5;28mprint\u001b[39m(\u001b[38;5;124m\"\u001b[39m\u001b[38;5;124mthe next number is\u001b[39m\u001b[38;5;124m\"\u001b[39m\u001b[38;5;241m+\u001b[39m\u001b[38;5;28mstr\u001b[39m(x\u001b[38;5;241m+\u001b[39m\u001b[38;5;241m1\u001b[39m))\n",
      "\u001b[1;31mNameError\u001b[0m: name 'is_float' is not defined"
     ]
    }
   ],
   "source": [
    "result = input(\"Number:\")\n",
    "if is_float(result):\n",
    "    x = float(input)\n",
    "    print(\"the next number is\"+str(x+1))\n",
    "else:\n",
    "    print('That isnot a number')"
   ]
  },
  {
   "cell_type": "markdown",
   "metadata": {},
   "source": [
    "# using Try-except"
   ]
  },
  {
   "cell_type": "code",
   "execution_count": 5,
   "metadata": {},
   "outputs": [
    {
     "name": "stdout",
     "output_type": "stream",
     "text": [
      "That isnot a number\n"
     ]
    }
   ],
   "source": [
    "try:  #(always will be exceuted)\n",
    "    result = input(\"Number:\")\n",
    "    x = float(result)\n",
    "    print(\"the next number is\"+str(x+1))\n",
    "except:\n",
    "    print('That isnot a number')\n"
   ]
  },
  {
   "cell_type": "code",
   "execution_count": 6,
   "metadata": {},
   "outputs": [],
   "source": [
    "def is_float(s):\n",
    "    try:\n",
    "        x = float(s)\n",
    "        return True\n",
    "    except:\n",
    "        return False"
   ]
  },
  {
   "cell_type": "code",
   "execution_count": 7,
   "metadata": {},
   "outputs": [
    {
     "ename": "SyntaxError",
     "evalue": "Missing parentheses in call to 'print'. Did you mean print(...)? (2706814012.py, line 11)",
     "output_type": "error",
     "traceback": [
      "\u001b[1;36m  Cell \u001b[1;32mIn[7], line 11\u001b[1;36m\u001b[0m\n\u001b[1;33m    print function_1(1,0)\u001b[0m\n\u001b[1;37m    ^\u001b[0m\n\u001b[1;31mSyntaxError\u001b[0m\u001b[1;31m:\u001b[0m Missing parentheses in call to 'print'. Did you mean print(...)?\n"
     ]
    }
   ],
   "source": [
    "def function_1(x,y):\n",
    "    return function_2(x,y)\n",
    "\n",
    "def function_2(x,y):\n",
    "    return function_3(x,y)\n",
    "\n",
    "def function_3(x,y):\n",
    "    return x/y # crash here\n",
    "\n",
    "if __name__ == '__main__':\n",
    "    print function_1(1,0)"
   ]
  },
  {
   "cell_type": "markdown",
   "metadata": {},
   "source": [
    "20th march 2024,custom_error"
   ]
  },
  {
   "cell_type": "markdown",
   "metadata": {},
   "source": [
    "1. Observe the types of errors the following code can possibly generate. Now\n",
    "handle the errors suitably by enclosing calls to the function inside a try block."
   ]
  },
  {
   "cell_type": "code",
   "execution_count": 1,
   "metadata": {},
   "outputs": [],
   "source": [
    "def fun(a):\n",
    "    if a < 4 :\n",
    "        b  = a/(a - 3)\n",
    "    print('Value of b = ', b)  # a not defined before calling function , so name error will arrise\n",
    "#  ZeroDivisionError occur if a = 3\n",
    "    \n"
   ]
  },
  {
   "cell_type": "code",
   "execution_count": 7,
   "metadata": {},
   "outputs": [
    {
     "name": "stdout",
     "output_type": "stream",
     "text": [
      "TypeError occurred: 'a' is of unsupported type.\n"
     ]
    }
   ],
   "source": [
    "# handle error\n",
    "def fun(a):\n",
    "    try: \n",
    "        if a< 4:\n",
    "            b = a / (a - 3 )\n",
    "            print(\"Value of b =\", b)\n",
    "    except ZeroDivisionError:\n",
    "        print(\"Error: Division by Zero occurred\")\n",
    "\n",
    "# follow instruction in Q above\n",
    "try:\n",
    "    fun('3')\n",
    "except NameError:\n",
    "    print(\"NameError occurred: 'a' isnot defined.\")\n",
    "except TypeError:\n",
    "    print(\"TypeError occurred: 'a' is of unsupported type.\")\n",
    "except IndentationError:\n",
    "    print('IndentationError occurred: Incorrect indentation')\n",
    "    \n"
   ]
  },
  {
   "cell_type": "markdown",
   "metadata": {},
   "source": [
    "Create a subclass Error of the ErrorType Exception. Now create subclasses\n",
    "ZError and RError of Error to be raised when the value entered by a the\n",
    "user (as in the following statement) is zero and negative respectively:\n",
    "num = int(input(\"Enter a number: \"))\n",
    "Also, in case the value entered cannot be converted to an integer, appropriate handling  off the error generated needs to be done."
   ]
  },
  {
   "cell_type": "code",
   "execution_count": null,
   "metadata": {},
   "outputs": [],
   "source": [
    "class Error(Exception):\n",
    "    '''Base class for exceptions'''\n",
    "    pass\n",
    "class ZError(Error):\n",
    "    \"\"\"Raised when the value entered by the user is Zero.\"\"\"\n",
    "    pass\n",
    "class RError(Error):\n",
    "    \"\"\"Raised when the value entered by the user is negative.\"\"\"\n",
    "    pass\n",
    "try:\n",
    "    num = int(input(\"Enter a number:\"))\n",
    "    if num == 0: \n",
    "        raise ZError('Value entered is Zero')\n",
    "    elif num <0:\n",
    "        raise RError('entered value is negative')\n",
    "    else:\n",
    "        print('enterd num is:', num)\n",
    "\n",
    "except:\n",
    "    \n"
   ]
  }
 ],
 "metadata": {
  "kernelspec": {
   "display_name": "Python 3",
   "language": "python",
   "name": "python3"
  },
  "language_info": {
   "codemirror_mode": {
    "name": "ipython",
    "version": 3
   },
   "file_extension": ".py",
   "mimetype": "text/x-python",
   "name": "python",
   "nbconvert_exporter": "python",
   "pygments_lexer": "ipython3",
   "version": "3.12.2"
  }
 },
 "nbformat": 4,
 "nbformat_minor": 2
}
