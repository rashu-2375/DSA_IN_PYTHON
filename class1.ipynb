{
 "cells": [
  {
   "cell_type": "code",
   "execution_count": 1,
   "metadata": {},
   "outputs": [
    {
     "name": "stdout",
     "output_type": "stream",
     "text": [
      "Hello World\n"
     ]
    }
   ],
   "source": [
    "class test:\n",
    "    def __init__(self, a= 'Hello World'):\n",
    "        self.a= a \n",
    "    def display(self):\n",
    "        print(self.a)\n",
    "obj = test()\n",
    "obj.display()\n",
    "        "
   ]
  },
  {
   "cell_type": "code",
   "execution_count": 11,
   "metadata": {},
   "outputs": [
    {
     "name": "stdout",
     "output_type": "stream",
     "text": [
      "6\n",
      "7\n"
     ]
    }
   ],
   "source": [
    "class change:\n",
    "    def __init__(self, x, y, z):\n",
    "        self.a = x + y + z \n",
    "x = change(1,2,3)\n",
    "# print(x.a)\n",
    "y = getattr(x, 'a')  #get the value of the attribute a of the object x.\n",
    "print(y) #y = x.a \n",
    "setattr(x, 'a', y+1)  #it sets the value of x.a to 6 + 1 = 7.\n",
    "print(x.a)"
   ]
  },
  {
   "cell_type": "code",
   "execution_count": 1,
   "metadata": {},
   "outputs": [
    {
     "ename": "TypeError",
     "evalue": "test.__init__() missing 1 required positional argument: 'a'",
     "output_type": "error",
     "traceback": [
      "\u001b[1;31m---------------------------------------------------------------------------\u001b[0m",
      "\u001b[1;31mTypeError\u001b[0m                                 Traceback (most recent call last)",
      "Cell \u001b[1;32mIn[1], line 6\u001b[0m\n\u001b[0;32m      4\u001b[0m     \u001b[38;5;28;01mdef\u001b[39;00m \u001b[38;5;21mdisplay\u001b[39m(\u001b[38;5;28mself\u001b[39m):\n\u001b[0;32m      5\u001b[0m         \u001b[38;5;28mprint\u001b[39m(\u001b[38;5;28mself\u001b[39m\u001b[38;5;241m.\u001b[39ma)\n\u001b[1;32m----> 6\u001b[0m obj \u001b[38;5;241m=\u001b[39m \u001b[43mtest\u001b[49m\u001b[43m(\u001b[49m\u001b[43m)\u001b[49m\n\u001b[0;32m      7\u001b[0m obj\u001b[38;5;241m.\u001b[39mdisplay()\n",
      "\u001b[1;31mTypeError\u001b[0m: test.__init__() missing 1 required positional argument: 'a'"
     ]
    }
   ],
   "source": [
    "class test:\n",
    "    def __init__(self, a):\n",
    "        self.a= a \n",
    "    def display(self):\n",
    "        print(self.a)\n",
    "obj = test()  # gives error as one argument is required while creating the object\n",
    "obj.display()"
   ]
  },
  {
   "cell_type": "code",
   "execution_count": 2,
   "metadata": {},
   "outputs": [],
   "source": [
    "# 1. Creating an instance of class is called instantiation\n",
    "\n",
    "# 2. if B is subclass of A . so To invoke the __init__method in A from B,\n",
    "# we will write A.__init__(self)"
   ]
  },
  {
   "cell_type": "code",
   "execution_count": 5,
   "metadata": {},
   "outputs": [
    {
     "name": "stdout",
     "output_type": "stream",
     "text": [
      "0 1\n"
     ]
    }
   ],
   "source": [
    "class test:\n",
    "    def __init__(self):\n",
    "        self.x = 0\n",
    "\n",
    "class derived_test(test):\n",
    "    def __init__(self):\n",
    "        test.__init__(self)\n",
    "        self.y = 1\n",
    "\n",
    "def main():\n",
    "    b = derived_test()\n",
    "    print(b.x, b.y)\n",
    "main()\n"
   ]
  },
  {
   "cell_type": "code",
   "execution_count": null,
   "metadata": {},
   "outputs": [],
   "source": [
    "# built-in function determine class description of any value"
   ]
  },
  {
   "cell_type": "code",
   "execution_count": 1,
   "metadata": {},
   "outputs": [
    {
     "name": "stdout",
     "output_type": "stream",
     "text": [
      "<class '__main__.Instructor'>\n"
     ]
    }
   ],
   "source": [
    "class Instructor:\n",
    "    pass\n",
    "Instructor_1 =Instructor()\n",
    "print(type(Instructor_1))"
   ]
  },
  {
   "cell_type": "code",
   "execution_count": 2,
   "metadata": {},
   "outputs": [
    {
     "name": "stdout",
     "output_type": "stream",
     "text": [
      "[]\n"
     ]
    }
   ],
   "source": [
    "l = [5]\n",
    "l.pop()\n",
    "print(l)"
   ]
  },
  {
   "cell_type": "code",
   "execution_count": 3,
   "metadata": {},
   "outputs": [
    {
     "ename": "NameError",
     "evalue": "name 'ArrayStack' is not defined",
     "output_type": "error",
     "traceback": [
      "\u001b[1;31m---------------------------------------------------------------------------\u001b[0m",
      "\u001b[1;31mNameError\u001b[0m                                 Traceback (most recent call last)",
      "Cell \u001b[1;32mIn[3], line 1\u001b[0m\n\u001b[1;32m----> 1\u001b[0m S \u001b[38;5;241m=\u001b[39m \u001b[43mArrayStack\u001b[49m()\n\u001b[0;32m      2\u001b[0m S\u001b[38;5;241m.\u001b[39mpush(\u001b[38;5;241m5\u001b[39m)\n",
      "\u001b[1;31mNameError\u001b[0m: name 'ArrayStack' is not defined"
     ]
    }
   ],
   "source": [
    "# S = ArrayStack()\n",
    "S.push(5)\n"
   ]
  }
 ],
 "metadata": {
  "kernelspec": {
   "display_name": "Python 3",
   "language": "python",
   "name": "python3"
  },
  "language_info": {
   "codemirror_mode": {
    "name": "ipython",
    "version": 3
   },
   "file_extension": ".py",
   "mimetype": "text/x-python",
   "name": "python",
   "nbconvert_exporter": "python",
   "pygments_lexer": "ipython3",
   "version": "3.12.3"
  }
 },
 "nbformat": 4,
 "nbformat_minor": 2
}
