{
 "cells": [
  {
   "cell_type": "code",
   "execution_count": 1,
   "metadata": {},
   "outputs": [
    {
     "name": "stdout",
     "output_type": "stream",
     "text": [
      "Sorted array: [5, 6, 7, 11, 12, 13]\n"
     ]
    }
   ],
   "source": [
    "def heapify(arr, n, i):\n",
    "    \"\"\"\n",
    "    Heapify a subtree rooted at index i in the given array.\n",
    "    \n",
    "    Args:\n",
    "        arr (list): The array to heapify.\n",
    "        n (int): The size of the heap.\n",
    "        i (int): The index of the root node of the subtree to heapify.\n",
    "    \"\"\"\n",
    "    largest = i  # Initialize largest as root\n",
    "    left = 2 * i + 1  # Left child index\n",
    "    right = 2 * i + 2  # Right child index\n",
    "\n",
    "    # Check if left child exists and is greater than root\n",
    "    if left < n and arr[left] > arr[largest]:\n",
    "        largest = left\n",
    "\n",
    "    # Check if right child exists and is greater than root\n",
    "    if right < n and arr[right] > arr[largest]:\n",
    "        largest = right\n",
    "\n",
    "    # If the largest value is not the root, swap and heapify the affected subtree\n",
    "    if largest != i:\n",
    "        arr[i], arr[largest] = arr[largest], arr[i]\n",
    "        heapify(arr, n, largest)\n",
    "\n",
    "def heap_sort(arr):\n",
    "    \"\"\"\n",
    "    Sort the given array using the Heap Sort algorithm.\n",
    "    \n",
    "    Args:\n",
    "        arr (list): The array to be sorted.\n",
    "    \n",
    "    Returns:\n",
    "        list: The sorted array.\n",
    "    \"\"\"\n",
    "    n = len(arr)\n",
    "\n",
    "    # Build a max heap from the input array\n",
    "    for i in range(n // 2 - 1, -1, -1):\n",
    "        heapify(arr, n, i)\n",
    "\n",
    "    # Extract elements one by one and heapify the remaining subtree\n",
    "    for i in range(n - 1, 0, -1):\n",
    "        arr[i], arr[0] = arr[0], arr[i]  # Swap root with last element\n",
    "        heapify(arr, i, 0)  # Heapify the remaining subtree\n",
    "\n",
    "    return arr\n",
    "\n",
    "# Example usage\n",
    "arr = [12, 11, 13, 5, 6, 7]\n",
    "sorted_arr = heap_sort(arr)\n",
    "print(\"Sorted array:\", sorted_arr)"
   ]
  },
  {
   "cell_type": "code",
   "execution_count": null,
   "metadata": {},
   "outputs": [],
   "source": []
  }
 ],
 "metadata": {
  "kernelspec": {
   "display_name": "Python 3",
   "language": "python",
   "name": "python3"
  },
  "language_info": {
   "codemirror_mode": {
    "name": "ipython",
    "version": 3
   },
   "file_extension": ".py",
   "mimetype": "text/x-python",
   "name": "python",
   "nbconvert_exporter": "python",
   "pygments_lexer": "ipython3",
   "version": "3.12.3"
  }
 },
 "nbformat": 4,
 "nbformat_minor": 2
}
