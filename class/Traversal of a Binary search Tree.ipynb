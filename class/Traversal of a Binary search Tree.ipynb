{
 "cells": [
  {
   "cell_type": "code",
   "execution_count": 1,
   "metadata": {},
   "outputs": [
    {
     "name": "stdout",
     "output_type": "stream",
     "text": [
      "3, 7, 8, 13, 14, 15, 18, 19, "
     ]
    }
   ],
   "source": [
    "class TreeNode:\n",
    "    def __init__(self, data):\n",
    "        self.data = data\n",
    "        self.left = None\n",
    "        self.right = None\n",
    "\n",
    "def inOrderTraversal(node):\n",
    "    if node is None:\n",
    "        return\n",
    "    inOrderTraversal(node.left)\n",
    "    print(node.data, end = ', ')\n",
    "    inOrderTraversal(node.right)\n",
    "\n",
    "root = TreeNode(13)\n",
    "node7 = TreeNode(7)\n",
    "node15 = TreeNode(15)\n",
    "node3 = TreeNode(3)\n",
    "node8 = TreeNode(8)\n",
    "node14 = TreeNode(14)\n",
    "node19 = TreeNode(19)\n",
    "node18 = TreeNode(18)\n",
    "\n",
    "root.left = node7\n",
    "root.right = node15\n",
    "\n",
    "node7.left = node3\n",
    "node7.right = node8\n",
    "node15.left = node14\n",
    "node15.right = node19\n",
    "\n",
    "node19.left = node18\n",
    "\n",
    "# Traverse\n",
    "inOrderTraversal(root)    #in-order traversal produces a list of numbers in an increasing (ascending) order,\n",
    "#which means that this Binary Tree is a Binary Search Tree.\n"
   ]
  },
  {
   "cell_type": "markdown",
   "metadata": {},
   "source": [
    "# Search node in BST"
   ]
  },
  {
   "cell_type": "code",
   "execution_count": 2,
   "metadata": {},
   "outputs": [],
   "source": [
    "class TreeNode:\n",
    "    def __init__(self, data):\n",
    "        self.data = data\n",
    "        self.left = None\n",
    "        self.right = None\n",
    "def search(node, target):\n",
    "    if node is None:\n",
    "        return None\n",
    "    elif node.data == target:\n",
    "        return node\n",
    "    elif target < node.data:\n",
    "        return search(node.left, target)\n",
    "    else:\n",
    "        return search(node.right, target)\n",
    "root = TreeNode(13)\n",
    "node7 = TreeNode(7)\n",
    "node15 = TreeNode(15)\n",
    "node3 = TreeNode(3)\n",
    "node8 = TreeNode(8)\n",
    "node14 = TreeNode(14)\n",
    "node19 = TreeNode(19)\n",
    "node18 = TreeNode(18) \n",
    "\n",
    "root.left = node7\n",
    "root.right = node15\n",
    "\n",
    "node7.left = node3\n",
    "node7.right = node8\n",
    "\n",
    "node15.left = node14\n",
    "node15.right = node19\n",
    "\n",
    "node19.left = node18  #The time complexity for searching a BST for a value is \n",
    "# O(h)where h is the height of the tree.\n",
    " \n"
   ]
  },
  {
   "cell_type": "code",
   "execution_count": 3,
   "metadata": {},
   "outputs": [
    {
     "name": "stdout",
     "output_type": "stream",
     "text": [
      "found the node with value:13\n"
     ]
    }
   ],
   "source": [
    "# Search for a value\n",
    "result = search(root, 13)\n",
    "if result:\n",
    "    print(f'found the node with value:{result.data}')\n",
    "else:\n",
    "    print(\"Value not found in the BST.\")"
   ]
  },
  {
   "cell_type": "markdown",
   "metadata": {},
   "source": [
    "# Insert Node in BST"
   ]
  },
  {
   "cell_type": "code",
   "execution_count": 7,
   "metadata": {},
   "outputs": [],
   "source": [
    "class TreeNode:\n",
    "    def __init__(self, data):\n",
    "        self.data = data\n",
    "        self.left = None\n",
    "        self.right = None\n",
    "def insert(node, data):\n",
    "    if node is None:\n",
    "        return TreeNode(data)\n",
    "    else:\n",
    "        if data < node.data:\n",
    "            node.left = insert(node.left, data)\n",
    "        elif data > node.data:\n",
    "            node.right = insert(node.right, data)\n",
    "            return node\n",
    "def inOrderTraversal(node):\n",
    "    if node is None:\n",
    "        return\n",
    "    inOrderTraversal(node.left)\n",
    "    print(node.data, end = ', ')\n",
    "    inOrderTraversal(node.right)\n",
    "\n",
    "root = TreeNode(13)\n",
    "node7 = TreeNode(7)\n",
    "node15 = TreeNode(15)\n",
    "node3 = TreeNode(3)\n",
    "node8 = TreeNode(8)\n",
    "node14 = TreeNode(14)\n",
    "node19 = TreeNode(19)\n",
    "node18 = TreeNode(18)\n",
    "\n",
    "root.left = node7\n",
    "root.right = node15\n",
    "\n",
    "node7.left = node3\n",
    "node7.right = node8 \n",
    "      \n",
    "node15.left = node14\n",
    "node15.right = node19\n",
    "\n",
    "node19.left = node18        \n"
   ]
  },
  {
   "cell_type": "code",
   "execution_count": 8,
   "metadata": {},
   "outputs": [
    {
     "name": "stdout",
     "output_type": "stream",
     "text": [
      "3, 7, 8, 10, 13, 14, 15, 18, 19, "
     ]
    }
   ],
   "source": [
    "# Inserting new value into the BST\n",
    "insert(root, 10)\n",
    "\n",
    "# Traverse\n",
    "inOrderTraversal(root)"
   ]
  },
  {
   "cell_type": "code",
   "execution_count": 9,
   "metadata": {},
   "outputs": [],
   "source": [
    "#  use minValueNode() function, to find a node's in-order successor,\n",
    "# and use that to delete a node.\n",
    "class TreeNode:\n",
    "    def __init__(self, data):\n",
    "        self.data = data\n",
    "        self.left = None\n",
    "        self.right = None\n",
    "\n",
    "def inOrderTraversal(node):\n",
    "    if node is None:\n",
    "        return\n",
    "    inOrderTraversal(node.left)\n",
    "    print(node.data, end=\", \")\n",
    "    inOrderTraversal(node.right)\n",
    "\n",
    "def minValueNode(node):\n",
    "    current = node\n",
    "    while current.left is not None:\n",
    "        current = current.left\n",
    "    return current\n",
    "\n",
    "root = TreeNode(13)\n",
    "node7 = TreeNode(7)\n",
    "node15 = TreeNode(15)\n",
    "node3 = TreeNode(3)\n",
    "node8 = TreeNode(8)\n",
    "node14 = TreeNode(14)\n",
    "node19 = TreeNode(19)\n",
    "node18 = TreeNode(18)\n",
    "\n",
    "root.left = node7\n",
    "root.right = node15\n",
    "\n",
    "node7.left = node3\n",
    "node7.right = node8\n",
    "\n",
    "node15.left = node14\n",
    "node15.right = node19\n",
    "\n",
    "node19.left = node18\n",
    "\n",
    "\n",
    "    "
   ]
  },
  {
   "cell_type": "code",
   "execution_count": 10,
   "metadata": {},
   "outputs": [
    {
     "name": "stdout",
     "output_type": "stream",
     "text": [
      "3, 7, 8, 13, 14, 15, 18, 19, \n",
      "Lowest value: 3\n"
     ]
    }
   ],
   "source": [
    "# Traverse\n",
    "inOrderTraversal(root)\n",
    "\n",
    "# Find Lowest\n",
    "print(\"\\nLowest value:\",minValueNode(root).data)\n"
   ]
  },
  {
   "cell_type": "markdown",
   "metadata": {},
   "source": [
    "# Delete a node in BST"
   ]
  },
  {
   "cell_type": "code",
   "execution_count": 6,
   "metadata": {},
   "outputs": [
    {
     "name": "stdout",
     "output_type": "stream",
     "text": [
      "3, 7, 8, 13, 14, 15, 18, 19, \n",
      "3, 7, 8, 13, 14, 18, 19, "
     ]
    }
   ],
   "source": [
    "class TreeNode:\n",
    "    def __init__(self, data):\n",
    "        self.data = data\n",
    "        self.left = None\n",
    "        self.right = None\n",
    "\n",
    "def inOrderTraversal(node):\n",
    "    if node is None:\n",
    "        return\n",
    "    inOrderTraversal(node.left)\n",
    "    print(node.data, end=\", \")\n",
    "    inOrderTraversal(node.right)\n",
    "\n",
    "def minValueNode(node):\n",
    "    current = node\n",
    "    while current.left is not None:\n",
    "        current = current.left\n",
    "    return current\n",
    "\n",
    "def delete(node, data):\n",
    "    if not node:\n",
    "        return None\n",
    "\n",
    "    if data < node.data:\n",
    "        node.left = delete(node.left, data)\n",
    "    elif data > node.data:\n",
    "        node.right = delete(node.right, data)\n",
    "    else:\n",
    "        # Node with only one child or no child\n",
    "        if not node.left:\n",
    "            temp = node.right\n",
    "            node = None\n",
    "            return temp\n",
    "        elif not node.right:\n",
    "            temp = node.left\n",
    "            node = None\n",
    "            return temp\n",
    "\n",
    "        # Node with two children, get the in-order successor\n",
    "        node.data = minValueNode(node.right).data\n",
    "        node.right = delete(node.right, node.data)\n",
    "\n",
    "    return node\n",
    "\n",
    "root = TreeNode(13)\n",
    "node7 = TreeNode(7)\n",
    "node15 = TreeNode(15)\n",
    "node3 = TreeNode(3)\n",
    "node8 = TreeNode(8)\n",
    "node14 = TreeNode(14)\n",
    "node19 = TreeNode(19)\n",
    "node18 = TreeNode(18)\n",
    "\n",
    "root.left = node7\n",
    "root.right = node15\n",
    "\n",
    "node7.left = node3\n",
    "node7.right = node8\n",
    "\n",
    "node15.left = node14\n",
    "node15.right = node19\n",
    "\n",
    "node19.left = node18\n",
    "\n",
    "# Traverse\n",
    "inOrderTraversal(root)\n",
    "\n",
    "# Delete node 15\n",
    "delete(root,15)\n",
    "\n",
    "# Traverse\n",
    "print() # Creates a new line\n",
    "inOrderTraversal(root)\n"
   ]
  },
  {
   "cell_type": "code",
   "execution_count": null,
   "metadata": {},
   "outputs": [],
   "source": []
  }
 ],
 "metadata": {
  "kernelspec": {
   "display_name": "Python 3",
   "language": "python",
   "name": "python3"
  },
  "language_info": {
   "codemirror_mode": {
    "name": "ipython",
    "version": 3
   },
   "file_extension": ".py",
   "mimetype": "text/x-python",
   "name": "python",
   "nbconvert_exporter": "python",
   "pygments_lexer": "ipython3",
   "version": "3.12.2"
  }
 },
 "nbformat": 4,
 "nbformat_minor": 2
}
