{
 "cells": [
  {
   "cell_type": "code",
   "execution_count": 1,
   "metadata": {},
   "outputs": [],
   "source": [
    "#a Python program that computes the grade-point average (GPA) for a student based on letter grades that are\n",
    "# entered by a user. "
   ]
  },
  {
   "cell_type": "code",
   "execution_count": 3,
   "metadata": {},
   "outputs": [],
   "source": [
    "def calculate_gpa(grades):\n",
    "    grade_points = {'A': 4.0, 'A-': 3.7, 'B+': 3.3, 'B': 3.0, 'B-': 2.7, 'C+': 2.3, 'C': 2.0, 'C-': 1.7, 'D+': 1.3, 'D': 1.0, 'F': 0.0}\n",
    "    \n",
    "    total_grade_points = 0\n",
    "    total_courses = len(grades)\n",
    "\n",
    "    for grade in grades:\n",
    "        total_grade_points += grade_points.get(grade, 0.0)\n",
    "\n",
    "    if total_courses == 0:\n",
    "        return 0.0\n",
    "\n",
    "    gpa = total_grade_points / total_courses\n",
    "    return round(gpa, 2)\n",
    "\n",
    "def main():\n",
    "    print(\"Welcome to the GPA Calculator!\")\n",
    "    \n",
    "    num_courses = int(input(\"Enter the number of courses: \"))\n",
    "    \n",
    "    grades = []\n",
    "    for i in range(num_courses):\n",
    "        course_grade = input(f\"Enter the letter grade for course {i + 1}: \").upper()\n",
    "        grades.append(course_grade)\n",
    "\n",
    "    gpa = calculate_gpa(grades)\n",
    "\n",
    "    print(f\"\\nYour GPA is: {gpa}\")\n",
    "\n",
    "# if __name__ == \"__main__\":\n",
    "#     main()\n"
   ]
  },
  {
   "cell_type": "code",
   "execution_count": null,
   "metadata": {},
   "outputs": [
    {
     "name": "stdout",
     "output_type": "stream",
     "text": [
      "hello baccho \n",
      " how are you\n"
     ]
    }
   ],
   "source": [
    "print('hello baccho \\n how are you')"
   ]
  },
  {
   "cell_type": "code",
   "execution_count": 3,
   "metadata": {},
   "outputs": [
    {
     "name": "stdout",
     "output_type": "stream",
     "text": [
      "i am best \t i can do everything\n"
     ]
    }
   ],
   "source": [
    "print('i am best \\t i can do everything')"
   ]
  },
  {
   "cell_type": "code",
   "execution_count": 2,
   "metadata": {},
   "outputs": [
    {
     "name": "stdout",
     "output_type": "stream",
     "text": [
      "Welcome to the GPA calculator.\n",
      "Please enter all your letter grades, one per line.\n",
      "Enter a blank line to designate the end.'\n",
      "Your GPA is 2.055\n"
     ]
    }
   ],
   "source": [
    "# A Python program that computes a grade-point average (GPA) of a student\n",
    "\n",
    "print(\"\"\"Welcome to the GPA calculator.\n",
    "Please enter all your letter grades, one per line.\n",
    "Enter a blank line to designate the end.'\"\"\")\n",
    "\n",
    "# map from letter grade to point value\n",
    "points = {'A+': 4.0, 'A': 4.0, 'A-': 3.67, 'B+': 3.33, 'B': 3.0, 'B-': 2.67,\n",
    "          'C+': 2.33, 'C': 2.0, 'C-': 1.67, 'D+': 1.33, 'D': 1.0, 'F': 0.0}\n",
    "\n",
    "num_courses = 0\n",
    "total_points = 0\n",
    "done = False\n",
    "\n",
    "while not done:\n",
    "    grade = input(\"Enter a grade (or press Enter to finish): \").upper()\n",
    "\n",
    "    if grade == '':\n",
    "        done = True\n",
    "    elif grade not in points:\n",
    "        print(\"Unknown grade {0} being ignored\".format(grade))\n",
    "    else:\n",
    "        num_courses += 1\n",
    "        total_points += points[grade]\n",
    "\n",
    "if num_courses > 0:\n",
    "    gpa = total_points / num_courses\n",
    "    print('Your GPA is {:.3f}'.format(gpa))\n",
    "else:\n",
    "    print('No courses entered. GPA cannot be calculated.')\n"
   ]
  },
  {
   "cell_type": "code",
   "execution_count": 2,
   "metadata": {},
   "outputs": [
    {
     "name": "stdout",
     "output_type": "stream",
     "text": [
      "98.6\n"
     ]
    }
   ],
   "source": [
    "temperature = 98.6\n",
    "original = temperature\n",
    "print(original)\n",
    "\n"
   ]
  },
  {
   "cell_type": "code",
   "execution_count": 5,
   "metadata": {},
   "outputs": [
    {
     "name": "stdout",
     "output_type": "stream",
     "text": [
      "[2, 4, 6, 9]\n"
     ]
    }
   ],
   "source": [
    "l = [ 4, 6,2, 9]\n",
    "l.sort()\n",
    "print(l)\n"
   ]
  },
  {
   "cell_type": "code",
   "execution_count": null,
   "metadata": {},
   "outputs": [
    {
     "name": "stdout",
     "output_type": "stream",
     "text": [
      "<class 'float'>\n"
     ]
    }
   ],
   "source": [
    "float( '3.14' )\n",
    "print(float)\n"
   ]
  },
  {
   "cell_type": "code",
   "execution_count": 3,
   "metadata": {},
   "outputs": [
    {
     "name": "stdout",
     "output_type": "stream",
     "text": [
      "l\n",
      "e\n",
      "h\n",
      "o\n"
     ]
    }
   ],
   "source": [
    "for i in set('hello'):\n",
    "    print(i)"
   ]
  },
  {
   "cell_type": "code",
   "execution_count": 1,
   "metadata": {},
   "outputs": [
    {
     "name": "stdout",
     "output_type": "stream",
     "text": [
      "<class 'tuple'>\n"
     ]
    }
   ],
   "source": [
    "l = (17,)\n",
    "print(type(l))"
   ]
  },
  {
   "cell_type": "code",
   "execution_count": 2,
   "metadata": {},
   "outputs": [
    {
     "name": "stdout",
     "output_type": "stream",
     "text": [
      "<class 'int'>\n"
     ]
    }
   ],
   "source": [
    "l = (17)\n",
    "print(type(l))"
   ]
  },
  {
   "cell_type": "code",
   "execution_count": 4,
   "metadata": {},
   "outputs": [
    {
     "name": "stdout",
     "output_type": "stream",
     "text": [
      "Student ID: 1234\n",
      "Name: John Doe\n",
      "Address: 123 Main St\n",
      "Grades:\n",
      "  math: 90\n",
      "  english: 85\n",
      "  history: 92\n"
     ]
    }
   ],
   "source": [
    "# Sample student records\n",
    "student_records = {\n",
    "    1234: {\"name\": \"John Doe\", \"address\": \"123 Main St\", \"grades\": {\"math\": 90, \"english\": 85, \"history\": 92}},\n",
    "    5678: {\"name\": \"Jane Smith\", \"address\": \"456 Oak St\", \"grades\": {\"math\": 78, \"english\": 92, \"history\": 88}},\n",
    "    # Add more student records as needed\n",
    "}\n",
    "\n",
    "# Function to retrieve student record by ID\n",
    "def get_student_record(student_id):\n",
    "    return student_records.get(student_id, \"Student not found\")\n",
    "\n",
    "# Example usage\n",
    "student_id_to_lookup = 1234\n",
    "result = get_student_record(student_id_to_lookup)\n",
    "\n",
    "if result != \"Student not found\":\n",
    "    print(f\"Student ID: {student_id_to_lookup}\")\n",
    "    print(f\"Name: {result['name']}\")\n",
    "    print(f\"Address: {result['address']}\")\n",
    "    print(\"Grades:\")\n",
    "    for subject, grade in result['grades'].items():\n",
    "        print(f\"  {subject}: {grade}\")\n",
    "else:\n",
    "    print(result)\n"
   ]
  },
  {
   "cell_type": "code",
   "execution_count": 6,
   "metadata": {},
   "outputs": [
    {
     "name": "stdout",
     "output_type": "stream",
     "text": [
      "[4, 7, 2]\n"
     ]
    }
   ],
   "source": [
    "s = [4,7,5,2]\n",
    "# s[2] =3\n",
    "del s[2]\n",
    "print(s)"
   ]
  },
  {
   "cell_type": "code",
   "execution_count": 7,
   "metadata": {},
   "outputs": [
    {
     "name": "stdout",
     "output_type": "stream",
     "text": [
      "[1, 2, 3, 4, 5]\n"
     ]
    }
   ],
   "source": [
    "alpha = [1, 2, 3]\n",
    "beta = alpha # an alias for alpha\n",
    "beta += [4, 5] # extends the original list with two more elements\n",
    "beta = beta + [6, 7] # reassigns beta to a new list [1, 2, 3, 4, 5, 6, 7]\n",
    "print(alpha) # will be [1, 2, 3, 4, 5]"
   ]
  },
  {
   "cell_type": "code",
   "execution_count": 9,
   "metadata": {},
   "outputs": [
    {
     "name": "stdout",
     "output_type": "stream",
     "text": [
      "17\n"
     ]
    }
   ],
   "source": [
    "data = [3,5,7,2]\n",
    "total = 0\n",
    "for val in data:\n",
    "    total += val \n",
    "print(total)"
   ]
  },
  {
   "cell_type": "code",
   "execution_count": 12,
   "metadata": {},
   "outputs": [
    {
     "name": "stdout",
     "output_type": "stream",
     "text": [
      "The biggest value is: 7\n"
     ]
    }
   ],
   "source": [
    "data = [3,5,7,2]\n",
    "biggest = data[0] # as we assume nonempty list\n",
    "for val in data:\n",
    "    if val > biggest:\n",
    "        biggest = val\n",
    "print(f\"The biggest value is: {biggest}\")\n",
    "\n",
    "\n"
   ]
  },
  {
   "cell_type": "code",
   "execution_count": 13,
   "metadata": {},
   "outputs": [
    {
     "name": "stdout",
     "output_type": "stream",
     "text": [
      "2\n"
     ]
    }
   ],
   "source": [
    "\n",
    "# we can find the index of the maximum element of a list\n",
    "data = [3,5,7,2]\n",
    "big_index = 0\n",
    "for j in range(len(data)):\n",
    "    if data[j] > data[big_index]:\n",
    "        big_index = j\n",
    "print(big_index)"
   ]
  },
  {
   "cell_type": "code",
   "execution_count": 4,
   "metadata": {},
   "outputs": [],
   "source": [
    "# function counts the number of occurrences of a given target\n",
    "# value within any form of iterable data set\n",
    "def count(data, target):\n",
    "    n=0\n",
    "    for item in data:\n",
    "        if item == target: # found a match\n",
    "            n += 1\n",
    "    return n"
   ]
  },
  {
   "cell_type": "code",
   "execution_count": 5,
   "metadata": {},
   "outputs": [
    {
     "name": "stdout",
     "output_type": "stream",
     "text": [
      "3\n"
     ]
    }
   ],
   "source": [
    "l = [4,3,7,7,5,7,2]\n",
    "target = 7\n",
    "print(count(l, target))\n"
   ]
  },
  {
   "cell_type": "code",
   "execution_count": 6,
   "metadata": {},
   "outputs": [
    {
     "name": "stdout",
     "output_type": "stream",
     "text": [
      "Number of occurrences: 3\n"
     ]
    }
   ],
   "source": [
    "# Function to count the number of occurrences of a given target value within any form of iterable data set\n",
    "def count(data, target):\n",
    "    n = 0\n",
    "    for item in data:\n",
    "        if item == target:  # found a match\n",
    "            n += 1\n",
    "    return n\n",
    "\n",
    "# Example usage:\n",
    "data_set = [1, 2, 3, 4, 2, 5, 2, 6]\n",
    "target_value = 2\n",
    "\n",
    "result = count(data_set, target_value)\n",
    "print(\"Number of occurrences:\", result)\n"
   ]
  },
  {
   "cell_type": "code",
   "execution_count": 7,
   "metadata": {},
   "outputs": [
    {
     "name": "stdout",
     "output_type": "stream",
     "text": [
      "Student's GPA: 4.0\n"
     ]
    }
   ],
   "source": [
    "def compute_gpa(grades, points=None):\n",
    "    # Default grade point values if not provided\n",
    "    default_points = {'A+': 4.0, 'A': 4.0, 'A-': 3.67, 'B+': 3.33, 'B': 3.0, 'B-': 2.67, 'C+': 2.33, 'C': 2.0,\n",
    "                      'C-': 1.67, 'D+': 1.33, 'D': 1.0, 'F': 0.0}\n",
    "\n",
    "    # Use default points if not provided\n",
    "    if points is None:\n",
    "        points = default_points\n",
    "\n",
    "    num_courses = 0\n",
    "    total_points = 0\n",
    "\n",
    "    for grade in grades:\n",
    "        if grade in points:  # Check if the grade is recognizable\n",
    "            num_courses += 1\n",
    "            total_points += points[grade]\n",
    "\n",
    "    # Avoid division by zero\n",
    "    if num_courses == 0:\n",
    "        return 0.0\n",
    "\n",
    "    return total_points / num_courses\n",
    "\n",
    "# Example usage:\n",
    "student_grades = ['A', 'B+', 'A-', 'B']\n",
    "custom_points = {'A': 5.0, 'B+': 4.0, 'A-': 4.0, 'B': 3.0}  # Custom point values (optional)\n",
    "\n",
    "result = compute_gpa(student_grades, custom_points)\n",
    "print(\"Student's GPA:\", result)\n"
   ]
  },
  {
   "cell_type": "code",
   "execution_count": 3,
   "metadata": {},
   "outputs": [
    {
     "name": "stdout",
     "output_type": "stream",
     "text": [
      "5.0 9.0\n"
     ]
    }
   ],
   "source": [
    "reply = input(\"Enter x and y, separated by spaces: \")\n",
    "pieces = reply.split() #By default, it splits the datatype at spaces\n",
    "x = float(pieces[0])\n",
    "y = float(pieces[1])\n",
    "print(x, y)"
   ]
  },
  {
   "cell_type": "code",
   "execution_count": 6,
   "metadata": {},
   "outputs": [
    {
     "name": "stdout",
     "output_type": "stream",
     "text": [
      "Error: Cannot compute square root of a negative number.\n"
     ]
    }
   ],
   "source": [
    "import math\n",
    "\n",
    "def compute_square_root(number):\n",
    "    if number < 0:\n",
    "        raise ValueError(\"Cannot compute square root of a negative number.\")\n",
    "    \n",
    "    return math.sqrt(number)\n",
    "\n",
    "# Example usage:\n",
    "try:\n",
    "    result = compute_square_root(-9)\n",
    "    print(\"Square root:\", result)\n",
    "except ValueError as ve:\n",
    "    print(\"Error:\", ve)\n"
   ]
  },
  {
   "cell_type": "code",
   "execution_count": 3,
   "metadata": {},
   "outputs": [
    {
     "ename": "AttributeError",
     "evalue": "type object 'B' has no attribute 'c'",
     "output_type": "error",
     "traceback": [
      "\u001b[1;31m---------------------------------------------------------------------------\u001b[0m",
      "\u001b[1;31mAttributeError\u001b[0m                            Traceback (most recent call last)",
      "Cell \u001b[1;32mIn[3], line 10\u001b[0m\n\u001b[0;32m      6\u001b[0m a\u001b[38;5;241m.\u001b[39mc \u001b[38;5;241m=\u001b[39m \u001b[38;5;241m5\u001b[39m\n\u001b[0;32m      9\u001b[0m \u001b[38;5;66;03m# print(a.d)\u001b[39;00m\n\u001b[1;32m---> 10\u001b[0m \u001b[38;5;28mprint\u001b[39m(\u001b[43mB\u001b[49m\u001b[38;5;241;43m.\u001b[39;49m\u001b[43mc\u001b[49m)\n",
      "\u001b[1;31mAttributeError\u001b[0m: type object 'B' has no attribute 'c'"
     ]
    }
   ],
   "source": [
    "class B:\n",
    "\n",
    "    d = 10\n",
    "a = B()\n",
    "# a.d = 10\n",
    "a.c = 5\n",
    "\n",
    "\n",
    "# print(a.d)\n",
    "print(B.c)\n",
    "\n",
    "\n",
    "\n"
   ]
  },
  {
   "cell_type": "code",
   "execution_count": 4,
   "metadata": {},
   "outputs": [
    {
     "name": "stdout",
     "output_type": "stream",
     "text": [
      "10\n"
     ]
    }
   ],
   "source": [
    "class MyInfo(B): \n",
    "    # d = 20  # inherihent logic\n",
    "    pass\n",
    "a = MyInfo()\n",
    "\n",
    "print(a.d)\n",
    "\n",
    "\n"
   ]
  },
  {
   "cell_type": "code",
   "execution_count": null,
   "metadata": {},
   "outputs": [],
   "source": []
  }
 ],
 "metadata": {
  "kernelspec": {
   "display_name": "Python 3",
   "language": "python",
   "name": "python3"
  },
  "language_info": {
   "codemirror_mode": {
    "name": "ipython",
    "version": 3
   },
   "file_extension": ".py",
   "mimetype": "text/x-python",
   "name": "python",
   "nbconvert_exporter": "python",
   "pygments_lexer": "ipython3",
   "version": "3.12.2"
  }
 },
 "nbformat": 4,
 "nbformat_minor": 2
}
